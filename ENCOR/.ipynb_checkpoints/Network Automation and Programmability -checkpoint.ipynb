{
 "cells": [
  {
   "cell_type": "markdown",
   "metadata": {},
   "source": [
    "# Data Encoding Formats\n",
    "\n",
    "## JSON\n",
    "\n",
    "to be filled later\n",
    "\n",
    "## XML\n",
    "\n",
    "to be filled later"
   ]
  },
  {
   "cell_type": "markdown",
   "metadata": {},
   "source": [
    "# Automation and Scripting \n",
    "\n",
    "## EEM Applet \n",
    "\n",
    "to be filled later\n",
    "\n",
    "## Guest Shell\n",
    "\n",
    "* Guestshell is a __virtualized Linux-based environment__, designed to run custom Linux applications, including Python for automated control and management of Cisco devices. \n",
    "* The environment is intended for tools, Linux utilities, and manageability rather than networking\n",
    "* Shares the kernel with the host (Cisco switches and routers) system.\n",
    "* Guest Shell container is managed using IOx which is Cisco's Application Hosting Infrastructure for Cisco IOS. \n",
    "\n",
    "### Guest Shell vs Guest Shell Lite\n",
    "\n",
    "|"
   ]
  },
  {
   "cell_type": "markdown",
   "metadata": {},
   "source": [
    "\n",
    "3"
   ]
  }
 ],
 "metadata": {
  "kernelspec": {
   "display_name": "Python 3",
   "language": "python",
   "name": "python3"
  },
  "language_info": {
   "codemirror_mode": {
    "name": "ipython",
    "version": 3
   },
   "file_extension": ".py",
   "mimetype": "text/x-python",
   "name": "python",
   "nbconvert_exporter": "python",
   "pygments_lexer": "ipython3",
   "version": "3.8.3"
  }
 },
 "nbformat": 4,
 "nbformat_minor": 4
}
