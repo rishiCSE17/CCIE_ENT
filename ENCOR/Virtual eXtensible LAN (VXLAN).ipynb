{
 "cells": [
  {
   "cell_type": "markdown",
   "metadata": {},
   "source": [
    "# Introduction\n",
    "\n",
    "* A L2 and L3 tunnel : An Ethernet in UDP inside an IP tunnel. \n",
    "* Standards: RFC 7348, 7432 \n",
    "* Agnostic to the data-plane encapsulation \n",
    "* Supported by VMWare NSX, Cisco ACI & NXOS7k, Cumulux, Arista etc \n",
    "\n",
    "## Why VxLAN\n",
    "\n",
    "* __Replacing VLANS :__ 12bits (4K) to 24bits (16M) possible segments.\n",
    "* __Allows L2 multiplathing:__ Does not need STP for Loop-Prevension rather uses L3 ECMP (Equal Cost Multi-Path) over CLOS fabric (Similar logic to FabricPath), suitable for Spine-Leaf architecture. Capable of establishing L2 connectivity between Private and Public cloud.\n",
    "* __Includes Scalling enhacement:__ Optimises CP (e.g. MAC learning, ARP tables, Brodcast-unknown-multicast (BUM) replication, etc.). \n",
    "* __Evolution:__ In __classic ethernet__ Access-Distribution communication was Active-Standby based. The next iteration was __Virtual Port-Channel (vPC)__ that supports dual-homing with etherchannel but does not supprot scale-out. Then __Fabric-Path__ was introduced which gives L2 communication with port binding to multiple DSW but does not have an active control-plane. A BGP based CP was introduced over Fabric path called __Dynamic Fabric Automation (DFA)__ but never took off. __VxLAN-BGP__ is replacing DFA. \n",
    "* __Does not break L2 adjacency:__ Allows any stateless L2 and L3 transport (e.g. vMotion)\n",
    "* __Allows multi-tenency:__ Customer segrication over shared underlay fabric. Allows overlapping L2 and L3 addresses similar to MPLS L3 VPN. \n",
    "* VLAN numbers and IP addresses are locally significant. \n",
    "\n"
   ]
  },
  {
   "cell_type": "code",
   "execution_count": null,
   "metadata": {},
   "outputs": [],
   "source": []
  }
 ],
 "metadata": {
  "kernelspec": {
   "display_name": "Python 3",
   "language": "python",
   "name": "python3"
  },
  "language_info": {
   "codemirror_mode": {
    "name": "ipython",
    "version": 3
   },
   "file_extension": ".py",
   "mimetype": "text/x-python",
   "name": "python",
   "nbconvert_exporter": "python",
   "pygments_lexer": "ipython3",
   "version": "3.8.3"
  }
 },
 "nbformat": 4,
 "nbformat_minor": 4
}
